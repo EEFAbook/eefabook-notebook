{
 "cells": [
  {
   "cell_type": "raw",
   "id": "ae3b6418-62f9-44eb-afe6-5c5ef1e6d9b6",
   "metadata": {},
   "source": [
    "---\n",
    "title: \"JavaScript and the Earth Engine API\"\n",
    "author: Ujaval Gandhi\n",
    "affiliation: Spatial Thoughts\n",
    "title-block-banner: true\n",
    "abstract: This chapter introduces the Google Earth Engine application programming interface (API) and the JavaScript syntax needed to use it. You will learn about the Code Editor environment and get comfortable typing, running, and saving scripts. You will also learn the basics of JavaScript language, such as variables, data structures, and functions.\n",
    "crossref:\n",
    "  fig-title: Fig.\n",
    "---"
   ]
  },
  {
   "cell_type": "markdown",
   "id": "10fd4b30-e14a-46e7-9509-04407c33f19c",
   "metadata": {},
   "source": [
    ":::{.callout-note}\n",
    "The source of content in this notebook is the [Chapter F1.0: JavaScript and the Earth Engine API](https://docs.google.com/document/d/1dLSaGXlAnI0jK6LAB6F-gQLBA30NTT0pz1tovHfOmvI/edit#heading=h.rafy9tochpd2) section of the Google Doc [F1 - Earth Engine Fundamentals and Applications - EEFA - Live Document - 2021+\n",
    "](https://docs.google.com/document/d/1dLSaGXlAnI0jK6LAB6F-gQLBA30NTT0pz1tovHfOmvI/edit#heading=h.2md7h24jb6sj) authored by Ujaval Gandhi.\n",
    ":::"
   ]
  },
  {
   "cell_type": "markdown",
   "id": "01221678-29bb-49e6-9dc2-3bf7dcd5a60b",
   "metadata": {},
   "source": [
    "# Overview\n",
    "\n",
    "## Learning Outcomes \n",
    "\n",
    "* Familiarity with the Earth Engine Code Editor.\n",
    "* Familiarity with the JavaScript syntax.\n",
    "* Ability to use the Earth Engine API functions from the Code Editor.\n",
    "\n",
    "## Assumes you know how to: \n",
    "\n",
    "* Sign up for an Earth Engine account (See the Google documentation for details).\n",
    "* Access the Earth Engine Code Editor (See the Google documentation for details).\n"
   ]
  },
  {
   "cell_type": "markdown",
   "id": "862aa3ab-5200-4282-bd7b-049d69536b62",
   "metadata": {},
   "source": [
    "## Introduction to Theory\n",
    "\n",
    "**The Earth Engine API**\n",
    "\n",
    "Google Earth Engine is a cloud-based platform for scientific data analysis. It provides ready-to-use, cloud-hosted datasets and a large pool of servers. One feature that makes Earth Engine particularly attractive is the ability to run large computations very fast by distributing them across a large pool of servers. The ability to efficiently use cloud-hosted datasets and computation is enabled by the Earth Engine API.\n",
    "\n",
    "An API is a way to communicate with Earth Engine servers. It allows you to specify what computation you would like to do, and then to receive the results. The API is designed so that users do not need to worry about how the computation is distributed across a cluster of machines and the results are assembled. Users of the API simply specify what needs to be done. This greatly simplifies the code by hiding the implementation detail from the users. It also makes Earth Engine very approachable for users who are not familiar with writing code.\n",
    "\n",
    "Earth Engine API is designed to be language agnostic. Google provides official client libraries to use the API from both JavaScript and Python. The API remains largely the same regardless of the programming language you use. The main difference is the syntax used to call the API functions. Once you learn the syntax for programming languages, your code can be adapted easily because they all use the same API functions."
   ]
  },
  {
   "cell_type": "markdown",
   "id": "579f92ac-0e88-4a7b-acaf-3b4a7556555d",
   "metadata": {},
   "source": [
    "**Why JavaScript?**\n",
    "\n",
    "JavaScript may not be the first choice of programming language for many researchers and data scientists, and some may be wondering why this book is based on the JavaScript API instead of Python or R.\n",
    "\n",
    "The Earth Engine JavaScript API is the most mature and easiest to use when getting started. The Earth Engine platform comes with a web-based Code Editor that allows you to start using the Earth Engine JavaScript API without any installation. It also provides additional functionality to display your results on a map, save your scripts, access documentation, manage tasks, and more. It has a one-click mechanism to share your code with other users—allowing for easy reproducibility and collaboration. In addition, the JavaScript API comes with a user interface library, which allows you to create charts and web-based applications with little effort. \n",
    "\n",
    "In practice, you do not need to become a JavaScript expert to use Earth Engine. The basic syntax described here should be sufficient. A good tip is that if you find yourself doing something complicated in JavaScript, it might be done much better in Earth Engine. All the important computations in Earth Engine need to use the API functions, and even a basic operation—such as adding two numbers in Earth Engine—should be done using the Earth Engine API. "
   ]
  },
  {
   "cell_type": "markdown",
   "id": "b90ac041-8284-4187-991c-0f0b3a5e7e72",
   "metadata": {},
   "source": [
    "# Practicum\n",
    "\n",
    "If you have not already done so, be sure to add the book’s code repository to the Code Editor by entering https://code.earthengine.google.com/?accept_repo=projects/gee-edu/book into your browser. The book’s scripts will then be available in the script manager panel."
   ]
  },
  {
   "cell_type": "markdown",
   "id": "381f3fed-54e5-4b4f-97b1-3b389a2fb9e0",
   "metadata": {},
   "source": [
    "## Section 1: Getting Started in the Code Editor{#sec-get-started-code-editor}\n",
    "\n",
    "The Code Editor is an integrated development environment for the Earth Engine JavaScript API. It offers an easy way to type, debug, run, and manage code. Once you have followed Google’s documentation on registering for an Earth Engine account, you should follow the documentation to open the Code Editor. When you first visit the Code Editor, you will see a screen such as the one shown in @fig-code-editor.\n",
    "\n",
    "![The Earth Engine Code Editor](../images/earth_engine_code_editor.png){#fig-code-editor}\n",
    "\n",
    "The Code Editor (@fig-code-editor) allows you to type JavaScript code and execute it. When you are first learning a new language and getting used to a new programming environment, it is customary to make a program to display the words “Hello World.” This is a fun way to start coding that shows you how to give input to the program and how to execute it. It also shows where the program displays the output. Doing this in JavaScript is quite simple. Copy the following code into the center panel."
   ]
  },
  {
   "cell_type": "markdown",
   "id": "0c579b7b-e43a-4903-8d24-7cd3e5b15c8e",
   "metadata": {},
   "source": [
    "```JavaScript\n",
    "print('Hello World')\n",
    "```\n",
    "\n",
    "> Hello World"
   ]
  },
  {
   "cell_type": "markdown",
   "id": "0c6b6967-1141-4e51-8cc7-9e2264acb22e",
   "metadata": {},
   "source": [
    "The line of code above uses the JavaScript `print` function to print the text “Hello World” to the screen. Once you enter the code, click the **Run** button. The output will be displayed on the upper right-hand panel under the **Console** tab (@fig-typing-running-code).\n",
    "\n",
    "![Typing and running code](../images/typing_and_running_code.png){#fig-typing-running-code}\n",
    "\n",
    "You now know where to type your code, how to run it, and where to look for the output. You just wrote your first Earth Engine script and may want to save it. Click the **Save** button (Fig. F1.0.3).\n",
    "\n",
    "![Saving a script](../images/code_editor_save.png){#fig-code-editor-save}\n",
    "\n",
    "If this is your first time using the Code Editor, you will be prompted to create a home folder. This is a folder in the cloud where all your code will be saved. You can pick a name of your choice, but remember that it cannot be changed and will forever be associated with your account. A good choice for the name would be your Google Account username (Fig. F1.0.4).\n",
    "\n",
    "![Creating a home folder](../images/create_home_folder.png){#fig-create-home-folder}\n",
    "\n",
    "Once your home folder is created, you will be prompted to enter a new repository. A repository can help you organize and share code. Your account can have multiple repositories and each repository can have multiple scripts inside it. To get started, you can create a repository named “default” (Fig. F1.0.5).\n",
    "\n",
    "![Creating a new repository](../images/create_new_repo.png){#fig-create-new-repo}\n",
    "\n",
    "Finally, you will be able to save your script inside the newly created repository. Enter the name “hello_world” and click OK (Fig. F1.0.6).\n",
    "\n",
    "![Saving a file](../images/code-editor-save-file.png){#fig-code-editor-save-file}\n",
    "\n",
    "Once the script is saved, it will appear in the script manager panel (Fig. F1.0.7). The scripts are saved in the cloud and will always be available to you when you open the Code Editor.\n",
    "\n",
    "![The script manager](../images/code_editor_script_manager.png){#fig-code-editor-script-manager}\n",
    "\n",
    "Now you should be familiar with how to create, run, and save your scripts in the Code Editor. You are ready to start learning the basics of JavaScript."
   ]
  },
  {
   "cell_type": "markdown",
   "id": "4b7a9435-2611-48fb-a48c-03dfbbdd3bc3",
   "metadata": {},
   "source": [
    "## Section 2. JavaScript Basics\n",
    "\n",
    "To be able to construct a script for your analysis, you will need to use JavaScript. This section covers the JavaScript syntax and basic data structures. In the sections that follow, you will see more JavaScript code, noted in a distinct font and with shaded background. As you encounter code, paste it into the Code Editor and run the script.\n",
    "\n",
    "### Variables\n",
    "\n",
    "In a programming language, variables are used to store data values. In JavaScript, a variable is defined using the `var` keyword followed by the name of the variable. The code below assigns the text “San Francisco” to the variable named city. Note that the text string in the code should be surrounded by quotes. You are free to use either **'** (single quotes) or **\"** (double quotes), and they must match at the beginning and end of each string. In your programs, it is advisable to be consistent—use either single quotes or double quotes throughout a given script (the code in this book generally uses single quotes for code). Each statement of your script should typically end with a semicolon, although Earth Engine’s code editor does not require it."
   ]
  },
  {
   "cell_type": "markdown",
   "id": "1553d5f3-e8e0-48a2-8fc4-b56110425184",
   "metadata": {},
   "source": [
    "```JavaScript\n",
    "var city = 'San Francisco';\n",
    "```"
   ]
  },
  {
   "cell_type": "markdown",
   "id": "f7a7e3b6-88cf-46e8-b0c0-eb2ef1b20f9c",
   "metadata": {},
   "source": [
    "If you print the variable `city`, you will get the value stored in the variable (San Francisco) printed in the **Console**. "
   ]
  },
  {
   "cell_type": "markdown",
   "id": "0818746c-5b90-4e6c-98ba-62029cc062bf",
   "metadata": {},
   "source": [
    "```JavaScript\n",
    "print(city);\n",
    "```"
   ]
  },
  {
   "cell_type": "markdown",
   "id": "f633604b-bf7b-4014-9e1e-7cdcd4f55751",
   "metadata": {},
   "source": [
    "When you assign a text value, the variable is automatically assigned the type string. You can also assign numbers to variables and create variables of type number. The following code creates a new variable called population and assigns a number as its value."
   ]
  },
  {
   "cell_type": "markdown",
   "id": "5bd0c32f-fc92-4fb2-ac29-5e5fca76dcdf",
   "metadata": {},
   "source": [
    "```JavaScript\n",
    "var population = 873965;\n",
    "print(population);\n",
    "```"
   ]
  },
  {
   "cell_type": "markdown",
   "id": "1d349458-8aaa-4ccc-a4d0-eb10ba9f0c64",
   "metadata": {},
   "source": [
    "### Lists\n",
    "\n",
    "It is helpful to be able to store multiple values in a single variable. JavaScript provides a data structure called a list that can hold multiple values. We can create a new list using the square brackets [] and adding multiple values separated by a comma."
   ]
  },
  {
   "cell_type": "markdown",
   "id": "6d751926-9db5-46cd-ae16-49a3ab7d5be3",
   "metadata": {},
   "source": [
    "```JavaScript\n",
    "var cities = ['San Francisco', 'Los Angeles', 'New York', 'Atlanta'];\n",
    "print(cities);\n",
    "```"
   ]
  },
  {
   "cell_type": "markdown",
   "id": "608a7055-24ca-48f8-b5e3-d6f82a5380a7",
   "metadata": {},
   "source": [
    "If you look at the output in the Console, you will see “List” with an expander arrow (▹) next to it. Clicking on the arrow will expand the list and show you its content. You will notice that along with the four items in the list, there is a number next to each value. This is the index of each item. It allows you to refer to each item in the list using a numeric value that indicates its position in the list.\n",
    "\n",
    "![A JavaScript list](../images/code_editor_javascript_list.png){#fig-javascript-list}"
   ]
  },
  {
   "cell_type": "markdown",
   "id": "977b3c8e-5800-40ef-afb4-b5ea1e16a9bf",
   "metadata": {},
   "source": [
    "### Objects\n",
    "\n",
    "Lists allow you to store multiple values in a single container variable. While useful, it is not appropriate to store structured data. It is helpful to be able to refer to each item with its name rather than its position. Objects in JavaScript allow you to store key-value pairs, where each value can be referred to by its key. You can create a dictionary using the curly braces `{}`. The code below creates an object called `cityData` with some information about San Francisco. \n",
    "\n",
    "Note a few important things about the JavaScript syntax here. First, we can use multiple lines to define the object. Only when we put in the semicolon (`;`) is the command considered complete. This helps format the code to make it more readable. Also note the choice of the variable name `cityData`. The variable contains two words. The first word is in lowercase, and the first letter of the second word is capitalized. This type of naming scheme of joining multiple words into a single variable name is called “camel case.” While it is not mandatory to name your variables using this scheme, it is considered a good practice to follow. Functions and parameters in the Earth Engine API follow this convention, so your code will be much more readable if you follow it too."
   ]
  },
  {
   "cell_type": "markdown",
   "id": "a66c843e-e3dd-4f70-8d0b-e320c91f8aaa",
   "metadata": {},
   "source": [
    "```JavaScript\n",
    "var cityData = {\n",
    "    'city': 'San Francisco',\n",
    "    'coordinates': [-122.4194, 37.7749],\n",
    "    'population': 873965\n",
    "};\n",
    "print(cityData);\n",
    "```"
   ]
  },
  {
   "cell_type": "markdown",
   "id": "ab955f0a-a64d-4a16-832a-9203361cd198",
   "metadata": {},
   "source": [
    "The object will be printed in the **Console**. You can see that instead of a numeric index, each item has a label. This is known as the *key* and can be used to retrieve the value of an item.\n",
    "\n",
    "![A JavaScript object](../images/code_editor_objects.png){#fig-javascript-object}"
   ]
  },
  {
   "cell_type": "markdown",
   "id": "aeb0c1b4-8adc-4b45-9b23-c276de4d46d7",
   "metadata": {},
   "source": [
    "### Functions\n",
    "\n",
    "While using Earth Engine, you will need to define your own functions. Functions take user inputs, use them to carry out some computation, and send an output back. Functions allow you to group a set of operations together and repeat the same operations with different parameters without having to rewrite them every time. Functions are defined using the `function` keyword. The code below defines a function called greet that takes an input called name and returns a greeting with *Hello* prefixed to it. Note that we can call the function with different input and it generates different outputs with the same code.\n",
    "\n",
    "```JavaScript\n",
    "var greet = function(name) {\n",
    "    return 'Hello ' + name;\n",
    "};\n",
    "print(greet('World'));\n",
    "print(greet('Readers'));\n",
    "```\n",
    "\n",
    "![A JavaScript function object](../images/code_editor_javascript_function_output.png){#fig-javascript-function-object}"
   ]
  },
  {
   "cell_type": "markdown",
   "id": "b46f017b-edd1-45d4-a879-4ef464b0a0c2",
   "metadata": {},
   "source": [
    "### Comments\n",
    "\n",
    "While writing code, it is useful to add a bit of text to explain the code or leave a note for yourself. It is a good programming practice to always add comments in the code explaining each step. In JavaScript, you can prefix any line with two forward slashes // to make it a comment. The text in the comment will be ignored by the interpreter and will not be executed.\n",
    "\n",
    "```JavaScript\n",
    "// This is a comment!\n",
    "```\n",
    "\n",
    "The Code Editor also provides a shortcut—*Ctrl* + / on Windows, *Cmd* + / on Mac—to comment or uncomment multiple lines at a time. You can select multiple lines and press the key combination to make them all comments. Press again to reverse the operation. This is helpful when debugging code to stop certain parts of the script from being executed.\n",
    "\n",
    "![Commenting multiple lines](../images/code_editor_comments.png){#fig-javascript-comments}"
   ]
  },
  {
   "cell_type": "markdown",
   "id": "7c9fadb9-5795-4d77-ab70-62ba7c8157ce",
   "metadata": {},
   "source": [
    "Congratulations! You have learned enough JavaScript to be able to use the Earth Engine API. In the next section, you will see how to access and execute Earth Engine API functions using JavaScript.\n",
    "\n",
    "**Code Checkpoint F10a.** The book’s repository contains a script that shows what your code should look like at this point."
   ]
  },
  {
   "cell_type": "markdown",
   "id": "b156e64b-8464-4230-a128-a0407565ad41",
   "metadata": {},
   "source": [
    "## Section 3. Earth Engine API Basics\n",
    "\n",
    "The Earth Engine API is vast and provides objects and methods to do everything from simple math to advanced algorithms for image processing. In the Code Editor, you can switch to the Docs tab to see the API functions grouped by object types. The API functions have the prefix `ee` (for Earth Engine).\n",
    "\n",
    "![Earth Engine API docs](../images/code_editor_api_docs.png){#fig-ee-api-docs}\n",
    "\n",
    "Let’s learn to use the API. Suppose you want to add two numbers, represented by the variables a and b , as below. Make a new script and enter the following:\n",
    "\n",
    "```JavaScript\n",
    "var a = 1;\n",
    "var b = 2;\n",
    "```\n",
    "\n",
    "In @sec-get-started-code-editor, you learned how to store numbers in variables, but not how to do any computation. This is because when you use Earth Engine, you do not do addition using JavaScript operators. For example, you would not write “var c = a + b” to add the two numbers. Instead, the Earth Engine API provides you with functions to do this, and it is important that you use the API functions whenever you can. It may seem awkward at first, but using the functions, as we’ll describe below, will help you avoid timeouts and create efficient code. \n",
    "\n",
    "Looking at the **Docs** tab, you will find a group of methods that can be called on an `ee.Number`. Expand it to see the various functions available to work with numbers. You will see the `ee.Number` function that creates an Earth Engine number object from a value. In the list of functions, there is an `add` function for adding two numbers. That’s what you use to add a and b.\n",
    "\n",
    "![`ee.Number` module](../images/code_editor_ee_number.png){#fig-ee-number-module}\n",
    "\n",
    "To add `a` and `b`, we first create an `ee.Number` object from variable `a` with `ee.Number(a)`. And then we can use the `add(b)` call to add the value of `b` to it. The following code shows the syntax and prints the `result` which, of course, is the value 3.\n",
    "\n",
    "```JavaScript\n",
    "var result = ee.Number(a).add(b);\n",
    "print(result);\n",
    "```\n",
    "\n",
    "By now you may have realized that when learning to program in Earth Engine, you do not need to deeply learn JavaScript or Python—instead, they are ways to access the Earth Engine API. This API is the same whether it is called from JavaScript or Python. \n",
    "\n",
    "Here’s another example to drive this point home. Let’s say you are working on a task that requires you to create a list of years from 1980 to 2020 with a five-year interval. If you are faced with this task, the first step is to switch to the Docs tab and open the `ee.List` module. Browse through the functions and see if there are any functions that can help. You will notice a function `ee.List.sequence`. Clicking on it will bring up the documentation of the function.\n",
    "\n",
    "![The `ee.List.sequence` function](../images/code_editor_ee_list_sequence.png){#fig-ee-list-sequence}\n",
    "\n",
    "The function `ee.List.sequence` is able to generate a sequence of numbers from a given `start` value to the `end` value. It also has an optional parameter step to indicate the increment between each number. We can create a `ee.List` of numbers representing years from 1980 to 2020, counting by 5, by calling this predefined function with the following values: start = 1980, end = 2020, and step = 5.\n",
    "\n",
    "```JavaScript\n",
    "var yearList = ee.List.sequence(1980, 2020, 5);\n",
    "print(yearList);\n",
    "```\n",
    "\n",
    "The output printed in the Console will show that the variable yearList indeed contains the list of years with the correct interval.\n",
    "\n",
    "![Output of `ee.List.sequence` function](../images/code_editor_ee_list_sequence_output.png){#fig-output-ee-list-sequence}\n",
    "\n",
    "You just accomplished a moderately complex programming task with the help of Earth Engine API. \n",
    "\n",
    "**Code Checkpoint F10b.** The book’s repository contains a script that shows what your code should look like at this point."
   ]
  },
  {
   "cell_type": "markdown",
   "id": "c97cd699-3fd8-46bc-a4a8-cee18509361a",
   "metadata": {},
   "source": [
    "# Synthesis\n",
    "\n",
    "**Assignment 1.** Suppose you have the following two string variables defined in the code below. Use the Earth Engine API to create a new string variable called `result` by combining these two strings. Print it in the **Console**. The printed value should read “Sentinel2A.”\n",
    "\n",
    "```JavaScript\n",
    "var mission = ee.String('Sentinel');\n",
    "var satellite = ee.String('2A');\n",
    "```\n",
    "\n",
    "Hint: Use the `cat` function from the `ee.String` module to “concatenate” (join together) the two strings. You will find more information about all available functions in the **Docs** tab of the Code Editor.\n",
    "\n",
    "![The **Docs** tab showing function in the `ee.String` module](../images/docs_ee_string.png){#fig-docs-ee-string}"
   ]
  },
  {
   "cell_type": "markdown",
   "id": "b2ae227e-c7e3-4ca5-bb14-88d5284db7cc",
   "metadata": {},
   "source": [
    "# Conclusion\n",
    "\n",
    "This chapter introduced the Earth Engine API. You also learned the basics of JavaScript syntax to be able to use the API in the Code Editor environment. We hope you now feel a bit more comfortable starting your journey to become an Earth Engine developer. Regardless of your programming background or familiarity with JavaScript, you have the tools at your disposal to start using the Earth Engine API to build scripts for remote sensing analysis."
   ]
  },
  {
   "cell_type": "markdown",
   "id": "313de675-4444-4274-a11f-938ee80cd6e0",
   "metadata": {},
   "source": [
    "# Feedback\n",
    "\n",
    "To review this chapter and make suggestions or note any problems, please go now to bit.ly/EEFA-review. You can find summary statistics from past reviews at bit.ly/EEFA-reviews-stats."
   ]
  }
 ],
 "metadata": {
  "kernelspec": {
   "display_name": "Python 3 (ipykernel)",
   "language": "python",
   "name": "python3"
  }
 },
 "nbformat": 4,
 "nbformat_minor": 5
}
